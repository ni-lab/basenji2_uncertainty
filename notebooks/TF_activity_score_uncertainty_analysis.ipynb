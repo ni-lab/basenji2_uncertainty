{
 "cells": [
  {
   "cell_type": "code",
   "execution_count": 61,
   "id": "0662cbcc",
   "metadata": {},
   "outputs": [],
   "source": [
    "import os\n",
    "\n",
    "import numpy as np\n",
    "import pandas as pd\n",
    "from scipy import stats\n",
    "import h5py\n",
    "\n",
    "import matplotlib.pyplot as plt\n",
    "\n",
    "import pysam\n",
    "import pyranges as pr\n",
    "from Bio import SeqIO\n",
    "from Bio.Seq import Seq\n",
    "from Bio.SeqRecord import SeqRecord"
   ]
  },
  {
   "cell_type": "markdown",
   "id": "3ef22e2b",
   "metadata": {},
   "source": [
    "### Paths to data directories"
   ]
  },
  {
   "cell_type": "code",
   "execution_count": 64,
   "id": "fe533a11",
   "metadata": {},
   "outputs": [],
   "source": [
    "predictions_dir = \"../basenji2/test\"\n",
    "plot_dir = \"../plots\"\n",
    "motif_data_dir = \"../Homo_sapiens_motif_fasta\""
   ]
  },
  {
   "cell_type": "markdown",
   "id": "d6d2032c",
   "metadata": {},
   "source": [
    "### Read in metadata about sequences and targets"
   ]
  },
  {
   "cell_type": "code",
   "execution_count": 8,
   "id": "2de8c85b",
   "metadata": {},
   "outputs": [],
   "source": [
    "sequences = pd.read_csv(f\"{predictions_dir}/reference_sequence_data/test_sequences_annotated.bed\",  sep=\"\\t\")\n",
    "\n",
    "targets_with_assay_type = pd.read_excel(f\"{predictions_dir}/reference_sequence_data/basenji_targets_with_assay_type.xlsx\", \n",
    "                                        sheet_name=\"Supplementary Table 2\")\n",
    "targets_with_assay_type.loc[targets_with_assay_type[\"assay_subtype\"].isin([\"DNase\", \"ATAC\"]), \n",
    "                            \"assay_subtype\"] = \"DNase/ATAC\""
   ]
  },
  {
   "cell_type": "code",
   "execution_count": 5,
   "id": "f822dedc",
   "metadata": {},
   "outputs": [
    {
     "name": "stdout",
     "output_type": "stream",
     "text": [
      "1\n",
      "2\n",
      "3\n",
      "4\n",
      "5\n"
     ]
    }
   ],
   "source": [
    "# read in peak called predictions and targets\n",
    "num_models = 5\n",
    "binarized_preds = []\n",
    "for i, model in enumerate(range(1, num_models+1)):\n",
    "    print(model)\n",
    "       \n",
    "    binarized_preds.append(h5py.File(\n",
    "        f\"{predictions_dir}/rep_{model}/preds_downsampled_called_peaks_fdr_01.h5\", \n",
    "                               \"r\")[\"qvals\"][:,:])\n",
    "binarized_preds = np.stack(binarized_preds, axis=2)\n",
    "binarized_targets = h5py.File(\n",
    "    f\"{predictions_dir}/rep_1/targets_downsampled_called_peaks_fdr_01.h5\", \"r\")[\"qvals\"][:,:]\n",
    "\n",
    "binarized_preds = binarized_preds < 0.01\n",
    "binarized_targets = binarized_targets < 0.01"
   ]
  },
  {
   "cell_type": "code",
   "execution_count": 6,
   "id": "85bed427",
   "metadata": {},
   "outputs": [],
   "source": [
    "# subset metadata to downsampled sequences\n",
    "sample_inds = np.arange(1, len(sequences), 10)\n",
    "sequences = sequences.loc[sample_inds]\n",
    "sequences.index = np.arange(len(sequences))\n",
    "\n",
    "# subset data to TSSs\n",
    "tss_inds = sequences[sequences[\"TSS distance\"] == 0].index.values\n",
    "\n",
    "binarized_preds = binarized_preds[tss_inds,:,:]\n",
    "binarized_targets = binarized_targets[tss_inds,:]\n",
    "\n",
    "sequences = sequences.loc[tss_inds]\n",
    "sequences.index = np.arange(len(sequences))"
   ]
  },
  {
   "cell_type": "markdown",
   "id": "e0b4be35",
   "metadata": {},
   "source": [
    "### Compute TF activity scores"
   ]
  },
  {
   "cell_type": "markdown",
   "id": "37ef99d6",
   "metadata": {},
   "source": [
    "Read in metadata files"
   ]
  },
  {
   "cell_type": "code",
   "execution_count": 66,
   "id": "658a9ef8",
   "metadata": {},
   "outputs": [],
   "source": [
    "# annotations of gene TSSs\n",
    "genes = pd.read_csv(\"/clusterfs/nilah/scripts/data/hg38_TSS.bed\",\n",
    "                    sep=\"\\t\", names=[\"Chromosome\", \"Start\", \"End\", \"gene\", \".\", \"strand\"])\n",
    "\n",
    "# hg38 fasta\n",
    "fasta_file = \"/clusterfs/nilah/pooja/genomes/hg38.ml.fa\"\n",
    "hg38_fasta = pysam.Fastafile(fasta_file)\n",
    "\n",
    "# PWMs for each human CIS-BP TF\n",
    "tfs = os.listdir(f\"{motif_data_dir}/pwms/\")\n",
    "tfs = [t.split(\".csv\")[0] for t in tfs]\n",
    "\n",
    "pwms = {}\n",
    "for tf in tfs:\n",
    "    pwms[tf] = pd.read_csv(f\"{motif_data_dir}/pwms/{tf}.csv\", index_col=0, skiprows=1, header=None)\n",
    "    pwms[tf] = pwms[tf]/pwms[tf].sum(axis=0)  # ensure all columns sum to 1"
   ]
  },
  {
   "cell_type": "markdown",
   "id": "e7e91b44",
   "metadata": {},
   "source": [
    "Select top 100 most consistently predicted TSSs as endogenous sequences to use to compute TF acitivty scores"
   ]
  },
  {
   "cell_type": "code",
   "execution_count": null,
   "id": "b5153db8",
   "metadata": {},
   "outputs": [],
   "source": [
    "sequences_correctness_per_track = np.array([binarized_preds[:,:,i] == binarized_targets \n",
    "                                            for i in range(num_models)]).sum(axis=0)\n",
    "sequences_num_tracks_consistently_correct = (sequences_correctness_per_track == 5).sum(axis=1)\n",
    "top_consistently_correct_sequence_inds = np.argsort(sequences_num_tracks_consistently_correct)[::-1][:148]\n",
    "\n",
    "endogenous_sequences = sequences.loc[top_consistently_correct_sequence_inds]\n",
    "endogenous_sequences[\"Chromosome\"] = endogenous_sequences[\"chr\"]\n",
    "endogenous_sequences[\"Start\"] = endogenous_sequences[\"start\"]\n",
    "endogenous_sequences[\"End\"] = endogenous_sequences[\"end\"]\n",
    "\n",
    "overlap_df = pr.PyRanges(genes).overlap(pr.PyRanges(endogenous_sequences)).df"
   ]
  },
  {
   "cell_type": "code",
   "execution_count": null,
   "id": "80eb93f3",
   "metadata": {},
   "outputs": [],
   "source": [
    "seq_length = 131072\n",
    "\n",
    "endogenous_seq_fasta = []\n",
    "for i, row in overlap_df.iterrows():\n",
    "    seq = hg38_fasta.fetch(row[\"Chromosome\"], \n",
    "                           row[\"Start\"] - (seq_length//2), \n",
    "                           row[\"Start\"] + (seq_length//2))\n",
    "    endogenous_seq_fasta.append(SeqRecord(Seq(seq), id=f\"{i}\"))\n",
    "    \n",
    "SeqIO.write(endogenous_seq_fasta, f\"{motif_data_dir}/endogenous_sequences_basenji.fasta\", \"fasta\")"
   ]
  },
  {
   "cell_type": "markdown",
   "id": "7032b799",
   "metadata": {},
   "source": [
    "Insert canonical and mutated motif for each TF into endogenous background sequences"
   ]
  },
  {
   "cell_type": "code",
   "execution_count": null,
   "id": "f0ee3bf7",
   "metadata": {},
   "outputs": [],
   "source": [
    "records = list(SeqIO.parse(f\"{data_dir}/endogenous_sequences_basenji.fasta\", \"fasta\"))\n",
    "seqs = [str(i.seq) for i in records]\n",
    "\n",
    "for tf in tfs:        \n",
    "    motif_seqs = []\n",
    "    mutated_seqs = []\n",
    "    \n",
    "    for i in range(len(seqs)):\n",
    "        strand = 1 if overlap_df.loc[i, \"strand\"] == \"+\" else -1\n",
    "        \n",
    "        # sample motif from PWM\n",
    "        sampled_motif = pwms[tf].apply(lambda x: np.random.choice([\"A\", \"C\", \"G\",\"T\"], \n",
    "                                           p=x, size=1, replace=False), axis=0)\n",
    "        sampled_motif = ''.join(sampled_motif.values[0])\n",
    "        \n",
    "        # insert mutation into sampled motif\n",
    "        lowest_entropy_pos = np.argmin(stats.entropy(pwms[tf], axis=0))\n",
    "        mutated_base = pwms[tf][lowest_entropy_pos+1].idxmin() # +1 because columns are 1-indexed\n",
    "        mutated_motif = sampled_motif[:lowest_entropy_pos] + mutated_base + sampled_motif[lowest_entropy_pos+1:]\n",
    "        \n",
    "        # insert motif and mutated motif 10bp upstream of TSS\n",
    "        left_coord = int(len(seqs[i])/2 - strand*(pwms[tf].shape[1] + 10))\n",
    "        motif_seq = seqs[i][:left_coord] + sampled_motif + seqs[i][left_coord+pwms[tf].shape[1]:]\n",
    "        mutated_seq = seqs[i][:left_coord] + mutated_motif + seqs[i][left_coord+pwms[tf].shape[1]:]\n",
    "        \n",
    "        motif_seqs.append(SeqRecord(Seq(motif_seq), id=f\"{i}\"))\n",
    "        mutated_seqs.append(SeqRecord(Seq(mutated_seq), id=f\"{i}\"))\n",
    "\n",
    "    SeqIO.write(motif_seqs, f\"{motif_data_dir}/endogenous_sequences_basenji_motifs/{tf}.fasta\", \"fasta\")\n",
    "    SeqIO.write(mutated_seqs, f\"{motif_data_dir}/endogenous_sequences_basenji_motifs_mutated/{tf}.fasta\", \"fasta\")"
   ]
  },
  {
   "cell_type": "markdown",
   "id": "89b47fd3",
   "metadata": {},
   "source": [
    "Compute TF activity scores for all models"
   ]
  },
  {
   "cell_type": "code",
   "execution_count": null,
   "id": "23a901fa",
   "metadata": {},
   "outputs": [],
   "source": [
    "%%bash\n",
    "\n",
    "basenji_dir=\"../basenji2\"\n",
    "motif_data_dir=\"../Homo_sapiens_motif_fasta\"\n",
    "scripts_dir=\"../batch_scripts/test\"\n",
    "\n",
    "for rep in {1..5}\n",
    "do  \n",
    "    cp ${scripts_dir}/test_motif_activity_template.sh ${scripts_dir}/test_basenji_rep_${rep}_endogenous_tf_motif_activity.sh \n",
    "    echo \"python /global/home/users/poojakathail/basenji/bin/tf_motif_activity_scores_basenji.py --rc --shifts -1,0,1 -o ${basenji_dir}/test/rep_${rep} -t ${basenji_dir}/human/targets.txt ${basenji_dir}/models/params_human.json ${basenji_dir}/train/rep_${rep}/model_best.h5 ${motif_data_dir}\" >> ${scripts_dir}/test_basenji_rep_${rep}_endogenous_tf_motif_activity.sh \n",
    "    sbatch ${scripts_dir}/test_basenji_rep_${rep}_endogenous_tf_motif_activity.sh \n",
    "done"
   ]
  },
  {
   "cell_type": "markdown",
   "id": "6ed8b73e",
   "metadata": {},
   "source": [
    "## Figures"
   ]
  },
  {
   "cell_type": "code",
   "execution_count": 46,
   "id": "fd678dfe",
   "metadata": {},
   "outputs": [],
   "source": [
    "# Read in TF activity scores\n",
    "tf_activity_scores = {}\n",
    "mutated_tf_activity_scores = {}\n",
    "for rep in range(1, num_models+1):\n",
    "    tf_activity_scores[rep] = pd.read_csv(\n",
    "          f\"{predictions_dir}/rep_{rep}/endogenous_sequence_tf_activity_scores.tsv\",\n",
    "          sep=\"\\t\", index_col=0)\n",
    "    mutated_tf_activity_scores[rep] = pd.read_csv(\n",
    "          f\"/{predictions_dir}/rep_{rep}/endogenous_sequence_mutated_tf_activity_scores.tsv\",\n",
    "          sep=\"\\t\", index_col=0)\n",
    "    \n",
    "tfs = tf_activity_scores[1].index.values"
   ]
  },
  {
   "cell_type": "markdown",
   "id": "e1ec16cb",
   "metadata": {},
   "source": [
    "### Fig 2A"
   ]
  },
  {
   "cell_type": "markdown",
   "id": "4f6d96d5",
   "metadata": {},
   "source": [
    "Per track consistency for TF activity scores"
   ]
  },
  {
   "cell_type": "code",
   "execution_count": 47,
   "id": "a934f424",
   "metadata": {},
   "outputs": [],
   "source": [
    "# for eack track-TF pair, compute the number of models with sign agreement\n",
    "num_models_with_sign_agreement_all_tracks = []\n",
    "for track in tf_activity_scores[1].columns.values:\n",
    "    num_models_with_sign_agreement = pd.concat([np.sign(tf_activity_scores[rep][track]) > 0 \n",
    "                                                for rep in range(1, num_models+1)], axis=1).sum(axis=1)\n",
    "    num_models_with_sign_agreement = np.abs(num_models_with_sign_agreement - 2.5) + 2.5\n",
    "    num_models_with_sign_agreement_all_tracks.append(num_models_with_sign_agreement)\n",
    "num_models_with_sign_agreement_all_tracks = pd.concat(num_models_with_sign_agreement_all_tracks, axis=1)\n",
    "num_models_with_sign_agreement_all_tracks.columns = tf_activity_scores[rep].columns.values\n",
    "\n",
    "# for each track, aggregate info across TFs\n",
    "num_models_with_sign_agreement_agg = pd.DataFrame(\n",
    "    [], index=num_models_with_sign_agreement_all_tracks.columns.values, columns=[3,4,5])\n",
    "for n in num_models_with_sign_agreement_agg.columns.values:\n",
    "    num_models_with_sign_agreement_agg[n] = (num_models_with_sign_agreement_all_tracks == n).sum(axis=0)\n",
    "num_models_with_sign_agreement_agg = num_models_with_sign_agreement_agg.sort_values(by=[3,4,5], ascending=False)"
   ]
  },
  {
   "cell_type": "code",
   "execution_count": 53,
   "id": "1e6eeb55",
   "metadata": {},
   "outputs": [
    {
     "data": {
      "image/png": "[encoded data removed]",
      "text/plain": [
       "<Figure size 2160x432 with 4 Axes>"
      ]
     },
     "metadata": {
      "needs_background": "light"
     },
     "output_type": "display_data"
    }
   ],
   "source": [
    "fig, ax = plt.subplots(1, 4, figsize=(30,6))\n",
    "\n",
    "for i, assay in enumerate(targets_with_assay_type[\"assay_subtype\"].unique()):\n",
    "    assay_tracks = targets_with_assay_type[targets_with_assay_type[\"assay_subtype\"] == assay][\"description\"].values\n",
    "    \n",
    "    for n in num_models_with_sign_agreement_agg.columns.values:\n",
    "        num_models_with_sign_agreement_agg_assay = num_models_with_sign_agreement_agg.loc[assay_tracks]\n",
    "        num_models_with_sign_agreement_agg_assay = num_models_with_sign_agreement_agg_assay.sort_values(by=[3,4,5], ascending=False)\n",
    "        \n",
    "        ax[i].bar(np.arange(len(num_models_with_sign_agreement_agg_assay)),\n",
    "                num_models_with_sign_agreement_agg_assay[n], \n",
    "                bottom=num_models_with_sign_agreement_agg_assay[list(range(3, n))].sum(axis=1).values \n",
    "                if n > 3 else None,\n",
    "                label=n)\n",
    "        if i == 0:\n",
    "            ax[i].set_ylabel(\"Number of TFs\", fontsize=20)\n",
    "        else:\n",
    "            ax[i].set_yticks([])\n",
    "        ax[i].set_xticks([])\n",
    "        ax[i].set_title(f\"{assay}\", fontsize=28)\n",
    "        \n",
    "plt.legend(loc=(1.01,0), fontsize=20)\n",
    "plt.tight_layout()\n",
    "plt.savefig(f\"{plot_dir}/endogenous_sequence_tf_activity_consistency_per_track_by_assay.pdf\", dpi=300)"
   ]
  },
  {
   "cell_type": "markdown",
   "id": "755e570e",
   "metadata": {},
   "source": [
    "### Fig 2B"
   ]
  },
  {
   "cell_type": "markdown",
   "id": "ecdb05a5",
   "metadata": {},
   "source": [
    "Per track consistency for TF activity scores"
   ]
  },
  {
   "cell_type": "code",
   "execution_count": 55,
   "id": "a4d14a27",
   "metadata": {},
   "outputs": [],
   "source": [
    "# for eack track-TF pair, compute the number of models with sign agreement\n",
    "num_models_with_sign_agreement_all_tracks = []\n",
    "for track in mutated_tf_activity_scores[1].columns.values:\n",
    "    num_models_with_sign_agreement = pd.concat([np.sign(mutated_tf_activity_scores[rep][track]) > 0 \n",
    "                                                for rep in range(1, num_models+1)], axis=1).sum(axis=1)\n",
    "    num_models_with_sign_agreement = np.abs(num_models_with_sign_agreement - 2.5) + 2.5\n",
    "    num_models_with_sign_agreement_all_tracks.append(num_models_with_sign_agreement)\n",
    "num_models_with_sign_agreement_all_tracks = pd.concat(num_models_with_sign_agreement_all_tracks, axis=1)\n",
    "num_models_with_sign_agreement_all_tracks.columns = mutated_tf_activity_scores[rep].columns.values\n",
    "\n",
    "# for each track, aggregate info across TFs\n",
    "num_models_with_sign_agreement_agg = pd.DataFrame(\n",
    "    [], index=num_models_with_sign_agreement_all_tracks.columns.values, columns=[3,4,5])\n",
    "for n in num_models_with_sign_agreement_agg.columns.values:\n",
    "    num_models_with_sign_agreement_agg[n] = (num_models_with_sign_agreement_all_tracks == n).sum(axis=0)\n",
    "num_models_with_sign_agreement_agg = num_models_with_sign_agreement_agg.sort_values(by=[3,4,5], ascending=False)"
   ]
  },
  {
   "cell_type": "code",
   "execution_count": 56,
   "id": "7c79afca",
   "metadata": {
    "scrolled": true
   },
   "outputs": [
    {
     "data": {
      "image/png": "[encoded data removed]",
      "text/plain": [
       "<Figure size 2160x432 with 4 Axes>"
      ]
     },
     "metadata": {
      "needs_background": "light"
     },
     "output_type": "display_data"
    }
   ],
   "source": [
    "fig, ax = plt.subplots(1, 4, figsize=(30,6))\n",
    "\n",
    "for i, assay in enumerate(targets_with_assay_type[\"assay_subtype\"].unique()):\n",
    "    assay_tracks = targets_with_assay_type[targets_with_assay_type[\"assay_subtype\"] == assay][\"description\"].values\n",
    "    \n",
    "    for n in num_models_with_sign_agreement_agg.columns.values:\n",
    "        num_models_with_sign_agreement_agg_assay = num_models_with_sign_agreement_agg.loc[assay_tracks]\n",
    "        num_models_with_sign_agreement_agg_assay = num_models_with_sign_agreement_agg_assay.sort_values(by=[3,4,5], ascending=False)\n",
    "        \n",
    "        ax[i].bar(np.arange(len(num_models_with_sign_agreement_agg_assay)),\n",
    "                num_models_with_sign_agreement_agg_assay[n], \n",
    "                bottom=num_models_with_sign_agreement_agg_assay[list(range(3, n))].sum(axis=1).values \n",
    "                if n > 3 else None,\n",
    "                label=n)\n",
    "        if i == 0:\n",
    "            ax[i].set_ylabel(\"Number of TFs\", fontsize=20)\n",
    "        else:\n",
    "            ax[i].set_yticks([])\n",
    "        ax[i].set_xticks([])\n",
    "        ax[i].set_title(f\"{assay}\", fontsize=28)\n",
    "        \n",
    "plt.legend(loc=(1.01,0), fontsize=20)\n",
    "plt.tight_layout()\n",
    "plt.savefig(f\"{plot_dir}/endogenous_sequence_tf_mutation_activity_consistency_per_track_by_assay.pdf\", dpi=300)"
   ]
  },
  {
   "cell_type": "markdown",
   "id": "2ca35f2b",
   "metadata": {},
   "source": [
    "### Fig S3"
   ]
  },
  {
   "cell_type": "markdown",
   "id": "a0f5ee4e",
   "metadata": {},
   "source": [
    "Compare TF mutation activity consistency vs PWM mutation probability"
   ]
  },
  {
   "cell_type": "code",
   "execution_count": 58,
   "id": "7fb2e729",
   "metadata": {},
   "outputs": [],
   "source": [
    "# for each TF, aggregate info across tracks\n",
    "num_models_with_sign_agreement_agg_per_TF = pd.DataFrame([], \n",
    "                                                  index=num_models_with_sign_agreement_all_tracks.index.values, \n",
    "                                                  columns=[3,4,5])\n",
    "for n in num_models_with_sign_agreement_agg_per_TF.columns.values:\n",
    "    num_models_with_sign_agreement_agg_per_TF[n] = (num_models_with_sign_agreement_all_tracks == n).sum(axis=1)\n",
    "    \n",
    "num_models_with_sign_agreement_agg_per_TF = num_models_with_sign_agreement_agg_per_TF.sort_values(by=[3,4,5], ascending=False)"
   ]
  },
  {
   "cell_type": "code",
   "execution_count": 71,
   "id": "7364362d",
   "metadata": {},
   "outputs": [],
   "source": [
    "# annotate mutation probability from PWM for each mutated TF\n",
    "for tf in num_models_with_sign_agreement_agg_per_TF.index.values:\n",
    "    lowest_entropy_pos = np.argmin(stats.entropy(pwms[tf], axis=0))\n",
    "    mutation_prob = pwms[tf][lowest_entropy_pos+1].min() # +1 because columns are 1-indexed\n",
    "    num_models_with_sign_agreement_agg_per_TF.loc[tf, \"Mutation probability\"] = mutation_prob"
   ]
  },
  {
   "cell_type": "code",
   "execution_count": 72,
   "id": "871af726",
   "metadata": {},
   "outputs": [
    {
     "data": {
      "image/png": "[encoded data removed]",
      "text/plain": [
       "<Figure size 432x288 with 1 Axes>"
      ]
     },
     "metadata": {
      "needs_background": "light"
     },
     "output_type": "display_data"
    }
   ],
   "source": [
    "tmp_df = num_models_with_sign_agreement_agg_per_TF[num_models_with_sign_agreement_agg_per_TF[\"Mutation probability\"] > 0.005]\n",
    "\n",
    "plt.scatter(np.arange(len(tmp_df)),  tmp_df[\"Mutation probability\"], s=7)\n",
    "corr = stats.spearmanr(np.arange(len(tmp_df)), tmp_df[\"Mutation probability\"])[0]\n",
    "plt.xticks([])\n",
    "plt.xlabel(\"TF mutation activity consistency\\n(Least consistent --> Most consistent)\", fontsize=12)\n",
    "plt.ylabel(\"Mutation probability\", fontsize=12)\n",
    "plt.text(50, 0.115, f\"Spearman R: {round(corr, 2)}\", fontsize=12)\n",
    "plt.savefig(f\"{plot_dir}/tf_mutation_activity_consistency_vs_mutation_probability.pdf\", dpi=300)"
   ]
  }
 ],
 "metadata": {
  "kernelspec": {
   "display_name": "Python3.7 TF-2.1.0",
   "language": "python",
   "name": "python3.7-tf2.1"
  },
  "language_info": {
   "codemirror_mode": {
    "name": "ipython",
    "version": 3
   },
   "file_extension": ".py",
   "mimetype": "text/x-python",
   "name": "python",
   "nbconvert_exporter": "python",
   "pygments_lexer": "ipython3",
   "version": "3.7.4"
  }
 },
 "nbformat": 4,
 "nbformat_minor": 5
}
